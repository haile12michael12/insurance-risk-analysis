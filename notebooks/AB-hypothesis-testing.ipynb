{
 "cells": [
  {
   "cell_type": "code",
   "execution_count": 14,
   "id": "f08ff22c",
   "metadata": {},
   "outputs": [],
   "source": [
    "import sys\n",
    "import pandas as pd\n",
    "from sklearn.impute import SimpleImputer\n",
    "from scipy.stats import f_oneway, mannwhitneyu\n",
    "import os"
   ]
  },
  {
   "cell_type": "code",
   "execution_count": 15,
   "id": "017b3a23",
   "metadata": {},
   "outputs": [
    {
     "name": "stderr",
     "output_type": "stream",
     "text": [
      "C:\\Users\\michael\\AppData\\Local\\Temp\\ipykernel_17860\\2368699183.py:4: DtypeWarning: Columns (32,37) have mixed types. Specify dtype option on import or set low_memory=False.\n",
      "  df = pd.read_csv(txt_file_path, delimiter='|')\n"
     ]
    },
    {
     "name": "stdout",
     "output_type": "stream",
     "text": [
      "Data successfully converted from .txt to c:\\data science\\10 academy\\week3\\Technical Content\\MachineLearningRating_v3.csv\n"
     ]
    },
    {
     "name": "stderr",
     "output_type": "stream",
     "text": [
      "C:\\Users\\michael\\AppData\\Local\\Temp\\ipykernel_17860\\2368699183.py:18: DtypeWarning: Columns (32,37) have mixed types. Specify dtype option on import or set low_memory=False.\n",
      "  df = pd.read_csv(r'c:\\data science\\10 academy\\week3\\Technical Content\\MachineLearningRating_v3.csv'  )\n"
     ]
    }
   ],
   "source": [
    "txt_file_path = r'c:\\data science\\10 academy\\week3\\Technical Content\\Data\\MachineLearningRating_v3.txt'\n",
    "\n",
    "# Read the TXT file using '|' as the delimiter\n",
    "df = pd.read_csv(txt_file_path, delimiter='|')\n",
    "\n",
    "# Define the output path with a .csv filename\n",
    "csv_file_path = r'c:\\data science\\10 academy\\week3\\Technical Content\\MachineLearningRating_v3.csv'\n",
    "\n",
    "# Save the DataFrame to a CSV file\n",
    "df.to_csv(csv_file_path, index=False)\n",
    "\n",
    "# Print confirmation message\n",
    "print(f\"Data successfully converted from .txt to {csv_file_path}\")\n",
    "\n",
    "# Load the newly created CSV file for further analysis\n",
    "\n",
    "\n",
    "df = pd.read_csv(r'c:\\data science\\10 academy\\week3\\Technical Content\\MachineLearningRating_v3.csv'  )\n"
   ]
  },
  {
   "cell_type": "code",
   "execution_count": 16,
   "id": "df5f8421",
   "metadata": {},
   "outputs": [
    {
     "name": "stderr",
     "output_type": "stream",
     "text": [
      "C:\\Users\\michael\\AppData\\Local\\Temp\\ipykernel_17860\\436069715.py:4: FutureWarning: A value is trying to be set on a copy of a DataFrame or Series through chained assignment using an inplace method.\n",
      "The behavior will change in pandas 3.0. This inplace method will never work because the intermediate object on which we are setting values always behaves as a copy.\n",
      "\n",
      "For example, when doing 'df[col].method(value, inplace=True)', try using 'df.method({col: value}, inplace=True)' or df[col] = df[col].method(value) instead, to perform the operation inplace on the original object.\n",
      "\n",
      "\n",
      "  df['PostalCode'].fillna(df['PostalCode'].mode()[0], inplace=True)\n",
      "C:\\Users\\michael\\AppData\\Local\\Temp\\ipykernel_17860\\436069715.py:5: FutureWarning: A value is trying to be set on a copy of a DataFrame or Series through chained assignment using an inplace method.\n",
      "The behavior will change in pandas 3.0. This inplace method will never work because the intermediate object on which we are setting values always behaves as a copy.\n",
      "\n",
      "For example, when doing 'df[col].method(value, inplace=True)', try using 'df.method({col: value}, inplace=True)' or df[col] = df[col].method(value) instead, to perform the operation inplace on the original object.\n",
      "\n",
      "\n",
      "  df['Gender'].fillna(df['Gender'].mode()[0], inplace=True)\n"
     ]
    }
   ],
   "source": [
    "# Data Cleaning and Missing Values Handling\n",
    "imputer = SimpleImputer(strategy='mean')\n",
    "df[['TotalClaims', 'TotalPremium']] = imputer.fit_transform(df[['TotalClaims', 'TotalPremium']])\n",
    "df['PostalCode'].fillna(df['PostalCode'].mode()[0], inplace=True)\n",
    "df['Gender'].fillna(df['Gender'].mode()[0], inplace=True)"
   ]
  },
  {
   "cell_type": "code",
   "execution_count": 17,
   "id": "dcb8cdac",
   "metadata": {},
   "outputs": [],
   "source": [
    "# Calculate profit margin if not already present\n",
    "if 'ProfitMargin' not in df.columns:\n",
    "    df['ProfitMargin'] = df['TotalPremium'] - df['TotalClaims']"
   ]
  },
  {
   "cell_type": "code",
   "execution_count": 18,
   "id": "3b332b3d",
   "metadata": {},
   "outputs": [],
   "source": [
    "# Define KPIs\n",
    "kpi_claims = 'TotalClaims'\n",
    "kpi_margin = 'ProfitMargin'"
   ]
  },
  {
   "cell_type": "code",
   "execution_count": 19,
   "id": "6bc3ed1c",
   "metadata": {},
   "outputs": [],
   "source": [
    "# Hypothesis 1: Risk Differences Across Provinces\n",
    "province_groups = df.groupby('Province')[kpi_claims]\n",
    "prov_risks = [group for _, group in province_groups]\n",
    "f_stat_provinces, p_value_provinces = f_oneway(*prov_risks)"
   ]
  },
  {
   "cell_type": "code",
   "execution_count": 20,
   "id": "5fb32579",
   "metadata": {},
   "outputs": [],
   "source": [
    "# Hypothesis 2: Risk Differences Between Zip Codes\n",
    "zip_code_groups = df.groupby('PostalCode')[kpi_claims]\n",
    "zip_risks = [group for _, group in zip_code_groups]\n",
    "f_stat_zip_codes, p_value_zip_codes = f_oneway(*zip_risks)"
   ]
  },
  {
   "cell_type": "code",
   "execution_count": 21,
   "id": "e7f5d446",
   "metadata": {},
   "outputs": [],
   "source": [
    "# Hypothesis 3: Margin Differences Between Zip Codes\n",
    "zip_margin_groups = df.groupby('PostalCode')[kpi_margin]\n",
    "zip_margin = [group for _, group in zip_margin_groups]\n",
    "f_stat_margin_zip_codes, p_value_margin_zip_codes = f_oneway(*zip_margin)"
   ]
  },
  {
   "cell_type": "code",
   "execution_count": 22,
   "id": "4a4f2984",
   "metadata": {},
   "outputs": [],
   "source": [
    "# Hypothesis 4: Risk Differences Between Women and Men\n",
    "women_risk = df[df['Gender'] == 'Female'][kpi_claims]\n",
    "men_risk = df[df['Gender'] == 'Male'][kpi_claims]\n",
    "u_stat_gender, p_value_gender = mannwhitneyu(women_risk, men_risk, alternative='two-sided')"
   ]
  },
  {
   "cell_type": "code",
   "execution_count": 23,
   "id": "fae801be",
   "metadata": {},
   "outputs": [],
   "source": [
    "def analyze_and_report(p_value, hypothesis_text, alpha=0.05):\n",
    "    if p_value < alpha:\n",
    "        result = f\"{hypothesis_text}: Statistically significant (p = {p_value:.4f})\"\n",
    "    else:\n",
    "        result = f\"{hypothesis_text}: Not statistically significant (p = {p_value:.4f})\"\n",
    "    return result"
   ]
  },
  {
   "cell_type": "code",
   "execution_count": 24,
   "id": "7c7d8ccd",
   "metadata": {},
   "outputs": [
    {
     "name": "stdout",
     "output_type": "stream",
     "text": [
      "\n",
      "Hypothesis Testing Results:\n",
      "\n",
      "1. Risk Differences Across Provinces: Statistically significant (p = 0.0000)\n",
      "2. Risk Differences Between Zip Codes: Not statistically significant (p = 0.8907)\n",
      "3. Margin Differences Between Zip Codes: Not statistically significant (p = 0.9977)\n",
      "4. Risk Differences Between Women and Men: Not statistically significant (p = 0.8417)\n",
      "\n",
      "Data Segmentation Overview:\n",
      "\n",
      "Data Segmented by Province: 9 provinces\n",
      "Data Segmented by Zip Code: 888 zip codes\n"
     ]
    },
    {
     "ename": "PermissionError",
     "evalue": "[WinError 5] Access is denied: 'C:/Users/Hp'",
     "output_type": "error",
     "traceback": [
      "\u001b[31m---------------------------------------------------------------------------\u001b[39m",
      "\u001b[31mPermissionError\u001b[39m                           Traceback (most recent call last)",
      "\u001b[36mCell\u001b[39m\u001b[36m \u001b[39m\u001b[32mIn[24]\u001b[39m\u001b[32m, line 15\u001b[39m\n\u001b[32m     13\u001b[39m \u001b[38;5;66;03m# Optionally: Save results\u001b[39;00m\n\u001b[32m     14\u001b[39m results_dir = \u001b[33m'\u001b[39m\u001b[33mC:/Users/Hp/Desktop/10_Academy/week-3 challenge/Results\u001b[39m\u001b[33m'\u001b[39m \n\u001b[32m---> \u001b[39m\u001b[32m15\u001b[39m \u001b[43mos\u001b[49m\u001b[43m.\u001b[49m\u001b[43mmakedirs\u001b[49m\u001b[43m(\u001b[49m\u001b[43mresults_dir\u001b[49m\u001b[43m,\u001b[49m\u001b[43m \u001b[49m\u001b[43mexist_ok\u001b[49m\u001b[43m=\u001b[49m\u001b[38;5;28;43;01mTrue\u001b[39;49;00m\u001b[43m)\u001b[49m\n\u001b[32m     17\u001b[39m \u001b[38;5;66;03m# Save results\u001b[39;00m\n\u001b[32m     18\u001b[39m results_df = pd.DataFrame({\n\u001b[32m     19\u001b[39m     \u001b[33m'\u001b[39m\u001b[33mHypothesis\u001b[39m\u001b[33m'\u001b[39m: [\n\u001b[32m     20\u001b[39m         \u001b[33m\"\u001b[39m\u001b[33mRisk Differences Across Provinces\u001b[39m\u001b[33m\"\u001b[39m,\n\u001b[32m   (...)\u001b[39m\u001b[32m     31\u001b[39m     ]\n\u001b[32m     32\u001b[39m })\n",
      "\u001b[36mFile \u001b[39m\u001b[32m<frozen os>:215\u001b[39m, in \u001b[36mmakedirs\u001b[39m\u001b[34m(name, mode, exist_ok)\u001b[39m\n",
      "\u001b[36mFile \u001b[39m\u001b[32m<frozen os>:215\u001b[39m, in \u001b[36mmakedirs\u001b[39m\u001b[34m(name, mode, exist_ok)\u001b[39m\n",
      "    \u001b[31m[... skipping similar frames: makedirs at line 215 (1 times)]\u001b[39m\n",
      "\u001b[36mFile \u001b[39m\u001b[32m<frozen os>:215\u001b[39m, in \u001b[36mmakedirs\u001b[39m\u001b[34m(name, mode, exist_ok)\u001b[39m\n",
      "\u001b[36mFile \u001b[39m\u001b[32m<frozen os>:225\u001b[39m, in \u001b[36mmakedirs\u001b[39m\u001b[34m(name, mode, exist_ok)\u001b[39m\n",
      "\u001b[31mPermissionError\u001b[39m: [WinError 5] Access is denied: 'C:/Users/Hp'"
     ]
    }
   ],
   "source": [
    "# Reporting results for each hypothesis\n",
    "print(\"\\nHypothesis Testing Results:\\n\")\n",
    "print(analyze_and_report(p_value_provinces, \"1. Risk Differences Across Provinces\"))\n",
    "print(analyze_and_report(p_value_zip_codes, \"2. Risk Differences Between Zip Codes\"))\n",
    "print(analyze_and_report(p_value_margin_zip_codes, \"3. Margin Differences Between Zip Codes\"))\n",
    "print(analyze_and_report(p_value_gender, \"4. Risk Differences Between Women and Men\"))\n",
    "\n",
    "# Additional Reporting for Data Segmentation\n",
    "print(\"\\nData Segmentation Overview:\\n\")\n",
    "print(f\"Data Segmented by Province: {len(province_groups)} provinces\")\n",
    "print(f\"Data Segmented by Zip Code: {len(zip_code_groups)} zip codes\")\n",
    "\n",
    "# Optionally: Save results\n",
    "results_dir = 'C:/Users/Hp/Desktop/10_Academy/week-3 challenge/Results' \n",
    "os.makedirs(results_dir, exist_ok=True)\n",
    "\n",
    "# Save results\n",
    "results_df = pd.DataFrame({\n",
    "    'Hypothesis': [\n",
    "        \"Risk Differences Across Provinces\",\n",
    "        \"Risk Differences Between Zip Codes\",\n",
    "        \"Margin Differences Between Zip Codes\",\n",
    "        \"Risk Differences Between Women and Men\"\n",
    "    ],\n",
    "     'P-Value': [p_value_provinces, p_value_zip_codes, p_value_margin_zip_codes, p_value_gender],\n",
    "    'Result': [\n",
    "        analyze_and_report(p_value_provinces, \"1. Risk Differences Across Provinces\"),\n",
    "        analyze_and_report(p_value_zip_codes, \"2. Risk Differences Between Zip Codes\"),\n",
    "        analyze_and_report(p_value_margin_zip_codes, \"3. Margin Differences Between Zip Codes\"),\n",
    "        analyze_and_report(p_value_gender, \"4. Risk Differences Between Women and Men\")\n",
    "    ]\n",
    "})\n",
    "results_df.to_csv(os.path.join(results_dir, 'hypothesis_testing_results.csv'), index=False)"
   ]
  }
 ],
 "metadata": {
  "kernelspec": {
   "display_name": ".venv",
   "language": "python",
   "name": "python3"
  },
  "language_info": {
   "codemirror_mode": {
    "name": "ipython",
    "version": 3
   },
   "file_extension": ".py",
   "mimetype": "text/x-python",
   "name": "python",
   "nbconvert_exporter": "python",
   "pygments_lexer": "ipython3",
   "version": "3.12.3"
  }
 },
 "nbformat": 4,
 "nbformat_minor": 5
}
